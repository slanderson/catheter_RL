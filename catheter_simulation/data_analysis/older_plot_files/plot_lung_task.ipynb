{
 "cells": [
  {
   "cell_type": "markdown",
   "metadata": {},
   "source": [
    "# Plotting History of Robot States\n",
    "\n",
    "This script should extract the data history.p in the ./data folder\n",
    "\n",
    "Data:\n",
    "see below and IDM.py for what arrays are included\n",
    "\n",
    "Jake Sganga\n",
    "2/4/2016\n"
   ]
  },
  {
   "cell_type": "code",
   "execution_count": null,
   "metadata": {
    "collapsed": true
   },
   "outputs": [],
   "source": []
  },
  {
   "cell_type": "code",
   "execution_count": 1,
   "metadata": {
    "ExecuteTime": {
     "end_time": "2016-08-23T05:21:04.390729",
     "start_time": "2016-08-23T05:21:02.661382"
    },
    "collapsed": false
   },
   "outputs": [],
   "source": [
    "%matplotlib inline\n",
    "\n",
    "import sys\n",
    "import pandas as pd\n",
    "import matplotlib.pyplot as plt\n",
    "import seaborn as sns\n",
    "import numpy as np\n",
    "import pickle\n",
    "import mpld3\n",
    "# mpld3.enable_notebook()\n",
    "\n",
    "# from matplotlib import rc\n",
    "# # rc('font',**{'family':'sans-serif','sans-serif':['Helvetica']})\n",
    "# ## for Palatino and other serif fonts use:\n",
    "# rc('font',**{'family':'serif','serif':['Palatino']})\n",
    "# # rc('text', usetex=True)\n",
    "\n",
    "from matplotlib.collections import LineCollection\n",
    "from matplotlib.colors import ListedColormap, BoundaryNorm\n",
    "\n",
    "sns.set_style(\"white\")\n",
    "sns.set_context(\"talk\")\n",
    "\n",
    "blue, green, red, purple = sns.color_palette(\"deep\")[:4]\n",
    "color_list = [blue, green, red, purple]\n",
    "grey = [0.7, 0.725, 0.725]\n",
    "\n",
    "from load_history import history_data\n",
    "\n",
    "sys.path.append('..')\n",
    "from robot.model.model_physics import catheter\n",
    "from robot.model.environment import environment\n",
    "robot = catheter()\n",
    "lung  = environment()"
   ]
  },
  {
   "cell_type": "markdown",
   "metadata": {},
   "source": [
    "## Lung Environment Data\n",
    "Collect data from the insertion tasks that define the environments boundaries. \n",
    "Need to specify which edge case matches the bend constraint.\n",
    "Unfortunately hard coded now, should be fixed later. "
   ]
  },
  {
   "cell_type": "code",
   "execution_count": 2,
   "metadata": {
    "ExecuteTime": {
     "end_time": "2016-08-23T05:21:04.431929",
     "start_time": "2016-08-23T05:21:04.392729"
    },
    "collapsed": true
   },
   "outputs": [],
   "source": [
    "def make_plot_boundaries():\n",
    "    fig = plt.figure()\n",
    "    file   = 'history_edge_0.p'\n",
    "    data_outer = history_data(file, folder)\n",
    "    \n",
    "    file   = 'history_edge_pi_' + str(constraint) + '.p'\n",
    "    data_inner = history_data(file, folder)\n",
    "    # isolate the confined locations\n",
    "    start_index = 0\n",
    "    stop_index  = 0\n",
    "    for i, q_i in enumerate(data_outer.q[:,8]):\n",
    "        if q_i >= lung.tube_start:\n",
    "            start_index = i\n",
    "            break\n",
    "    for i, q_i in enumerate(data_outer.q[:,8]):\n",
    "        if q_i >= lung.tube_end:\n",
    "            stop_index = i\n",
    "            break\n",
    "            \n",
    "    stop_index -= 0        \n",
    "    top    = np.ones(stop_index - start_index) * 40\n",
    "    bottom = np.linspace(-10,0.025,10)\n",
    "    \n",
    "    plt.fill_between(data_outer.y[start_index:stop_index], \n",
    "                     data_outer.x[start_index:stop_index],\n",
    "                     top, color = grey, alpha = 1, \n",
    "                     label = 'Lung Wall')\n",
    "    plt.fill_between(bottom, \n",
    "                     40 * np.ones(len(bottom)),\n",
    "                     color = grey, alpha = 1)\n",
    "    start_index += 20\n",
    "    stop_index += 70 \n",
    "    plt.fill_between(data_inner.y[start_index:stop_index],\n",
    "                     data_inner.x[start_index:stop_index], \n",
    "                     color = grey, alpha = 1)\n",
    "    plt.xlabel('Y(mm)')\n",
    "    plt.ylabel('X(mm)')\n",
    "    plt.axis('equal')\n",
    "    plt.axis((0,40,0,50))\n",
    "\n",
    "    return fig\n",
    "    \n",
    "    "
   ]
  },
  {
   "cell_type": "code",
   "execution_count": 3,
   "metadata": {
    "ExecuteTime": {
     "end_time": "2016-08-23T05:21:04.514487",
     "start_time": "2016-08-23T05:21:04.435933"
    },
    "collapsed": false
   },
   "outputs": [],
   "source": [
    "def add_trajectory(fig_lung, name, color_map, line_label, show_predicted, data):\n",
    "    plt.figure(fig_lung.number) # set fig as current figure    \n",
    "    if show_predicted:\n",
    "        T = len(data.dx_predicted)\n",
    "        for i in range(T):\n",
    "            if i % 50 == 0:\n",
    "                plt.plot(data.dx_predicted[i][:, 1], \n",
    "                         data.dx_predicted[i][:, 0],\n",
    "                         '.-', color = purple, alpha = 0.1,\n",
    "                         label = 'predicted trajectory')\n",
    "    \n",
    "    y = data.x_sensed[:,1].copy()\n",
    "    x = data.x_sensed[:,0].copy()\n",
    "    t = np.linspace(2, 10, len(y))\n",
    "    points = np.array([y, x]).T.reshape(-1, 1, 2)\n",
    "    segments = np.concatenate([points[:-1], points[1:]], axis=1)\n",
    "\n",
    "    lc = LineCollection(segments, cmap=color_map,\n",
    "                        norm=plt.Normalize(0, 10))\n",
    "    lc.set_array(t)\n",
    "    lc.set_linewidth(3)\n",
    "    lc.set_label(line_label)\n",
    "    plt.gca().add_collection(lc)\n",
    "    \n",
    "    plt.plot(data.x_desired[:,1], data.x_desired[:,0], 'g.', label = 'desired')\n",
    "    point_count = 0\n",
    "    last_xd = np.array([])\n",
    "    offset_y = 0.75\n",
    "    offset_x = 1\n",
    "    for i, xd in enumerate(data.x_desired):\n",
    "        if not np.array_equal(xd, last_xd):\n",
    "            plt.text(xd[1] + offset_y, xd[0] + offset_x, \n",
    "                     str(point_count), color = green)\n",
    "            last_xd = xd.copy()\n",
    "            point_count += 1\n",
    "            \n",
    "    ax = plt.gca()\n",
    "    handles, labels = ax.get_legend_handles_labels()\n",
    "    newLabels, newHandles = [], []\n",
    "    for handle, label in zip(handles, labels):\n",
    "        if label not in newLabels:\n",
    "            newLabels.append(label)\n",
    "            newHandles.append(handle)\n",
    "    plt.legend(newHandles, newLabels, loc = 'upper left', bbox_to_anchor = [1,1])\n",
    "    legend = ax.get_legend()\n",
    "    \n",
    "    for i, name in enumerate(newLabels):\n",
    "        if name.lower() == 'ukf + mpc':\n",
    "            legend.legendHandles[i].set_color(blue)\n",
    "        elif name.lower() == 'mlc':\n",
    "            legend.legendHandles[i].set_color(red)\n",
    "        elif name.lower() == 'tip trajectory':\n",
    "            legend.legendHandles[i].set_color(purple)\n",
    "#         plt.figure()\n",
    "#         plt.plot(q[:,8], x)\n",
    "    "
   ]
  },
  {
   "cell_type": "code",
   "execution_count": 4,
   "metadata": {
    "ExecuteTime": {
     "end_time": "2016-08-23T05:21:04.531503",
     "start_time": "2016-08-23T05:21:04.517490"
    },
    "collapsed": false
   },
   "outputs": [],
   "source": [
    "def plot_angles(line_label, data):\n",
    "    fig = plt.figure()\n",
    "    for i in range(3):\n",
    "        plt.plot(data.time_pts, data.angles_sensed[:,i] * 180/np.pi, color = color_list[i], label = r'sensed '+angle_names[i])\n",
    "    for i in range(3):\n",
    "        plt.plot(data.time_pts, data.angles_model[:,i] * 180/np.pi, '--', label = 'actual ' +angle_names[i])\n",
    "    plt.xlabel('Time')\n",
    "    plt.ylabel('angles (deg)')\n",
    "    plt.legend(loc = 'upper left', bbox_to_anchor = [1,1])\n",
    "    return fig\n"
   ]
  },
  {
   "cell_type": "code",
   "execution_count": 5,
   "metadata": {
    "ExecuteTime": {
     "end_time": "2016-08-23T05:21:04.557526",
     "start_time": "2016-08-23T05:21:04.540515"
    },
    "collapsed": false
   },
   "outputs": [],
   "source": [
    "def plot_tension(line_label, data):\n",
    "    fig = plt.figure()\n",
    "    for i in range(4):\n",
    "        plt.plot(data.time_pts, data.tension[:,4+i], lw = 3, label = 'Tendon ' + str(i+1))\n",
    "    plt.xlabel('time')\n",
    "    plt.ylabel('tension')\n",
    "    plt.title(line_label + ' Tendon Tensions')\n",
    "    plt.legend(loc = 'upper left', bbox_to_anchor = [1,1])\n",
    "    plt.grid(True)\n",
    "    return fig"
   ]
  },
  {
   "cell_type": "code",
   "execution_count": 6,
   "metadata": {
    "ExecuteTime": {
     "end_time": "2016-08-23T05:21:04.579541",
     "start_time": "2016-08-23T05:21:04.561534"
    },
    "collapsed": true
   },
   "outputs": [],
   "source": [
    "def plot_curve(data):\n",
    "    fig = plt.figure()\n",
    "    dir_names = ['s', 'theta', 'phi']\n",
    "    for i in [1]:\n",
    "        plt.plot(data.time_pts, data.curve_sensed[:,i], color = color_list[i], label = r'sensed '+dir_names[i])\n",
    "        plt.plot(data.time_pts, data.curve_model[:,i],'--' ,color = color_list[i], label = r'model '+dir_names[i])\n",
    "#     plt.plot(data.time_pts, data.q_desired[:,8])\n",
    "    plt.xlabel('Time')\n",
    "    plt.ylabel('Curve')\n",
    "    plt.legend(loc = 'upper left', bbox_to_anchor = [1,1])\n",
    "    plt.grid(True)\n",
    "#     plt.axis((0,data.time_pts[-1],-0.1,3))\n",
    "    return fig"
   ]
  },
  {
   "cell_type": "code",
   "execution_count": 15,
   "metadata": {
    "ExecuteTime": {
     "end_time": "2016-08-23T05:23:40.838570",
     "start_time": "2016-08-23T05:23:40.813553"
    },
    "collapsed": false
   },
   "outputs": [],
   "source": [
    "def make_plots(name, fig_lung, show_predicted = False):\n",
    "    plt.figure(fig_lung.number)\n",
    "    \n",
    "    if name.lower() == 'ukf':\n",
    "        file =  \"history_ukf.p\"\n",
    "        line_label = 'UKF + MPC'\n",
    "        color_map = plt.get_cmap('Blues')\n",
    "        data = history_data(file, folder)\n",
    "    elif name.lower() == 'mlc':\n",
    "        file   = 'history_mlc_pi_' + str(constraint) + '.p'\n",
    "        color_map = plt.get_cmap('Reds')\n",
    "        line_label = 'MLC'\n",
    "        data = history_data(file, folder)\n",
    "    elif name.lower() == 'new':\n",
    "        color_map = plt.get_cmap('Purples')\n",
    "        line_label = 'tip trajectory'\n",
    "        data = history_data()\n",
    "    \n",
    "    add_trajectory(fig_lung, name, color_map, line_label, show_predicted, data)\n",
    "    plot_tension(line_label, data)\n",
    "    plot_angles(line_label, data)\n",
    "    plot_curve(data)\n",
    "\n",
    "    "
   ]
  },
  {
   "cell_type": "code",
   "execution_count": 16,
   "metadata": {
    "ExecuteTime": {
     "end_time": "2016-08-23T05:23:41.726949",
     "start_time": "2016-08-23T05:23:41.052731"
    },
    "collapsed": false,
    "scrolled": false
   },
   "outputs": [
    {
     "ename": "IndexError",
     "evalue": "too many indices for array",
     "output_type": "error",
     "traceback": [
      "\u001b[1;31m\u001b[0m",
      "\u001b[1;31mIndexError\u001b[0mTraceback (most recent call last)",
      "\u001b[1;32m<ipython-input-16-7baa75702086>\u001b[0m in \u001b[0;36m<module>\u001b[1;34m()\u001b[0m\n\u001b[0;32m      5\u001b[0m \u001b[1;31m# make_plots('ukf', fig_lung, show_predicted = False)\u001b[0m\u001b[1;33m\u001b[0m\u001b[1;33m\u001b[0m\u001b[0m\n\u001b[0;32m      6\u001b[0m \u001b[1;31m# make_plots('mlc', fig_lung)\u001b[0m\u001b[1;33m\u001b[0m\u001b[1;33m\u001b[0m\u001b[0m\n\u001b[1;32m----> 7\u001b[1;33m \u001b[0mmake_plots\u001b[0m\u001b[1;33m(\u001b[0m\u001b[1;34m'new'\u001b[0m\u001b[1;33m,\u001b[0m \u001b[0mfig_lung\u001b[0m\u001b[1;33m,\u001b[0m \u001b[0mshow_predicted\u001b[0m \u001b[1;33m=\u001b[0m \u001b[1;32mTrue\u001b[0m\u001b[1;33m)\u001b[0m\u001b[1;33m\u001b[0m\u001b[0m\n\u001b[0m\u001b[0;32m      8\u001b[0m \u001b[1;33m\u001b[0m\u001b[0m\n\u001b[0;32m      9\u001b[0m \u001b[1;32mif\u001b[0m \u001b[1;32mFalse\u001b[0m\u001b[1;33m:\u001b[0m\u001b[1;33m\u001b[0m\u001b[0m\n",
      "\u001b[1;32m<ipython-input-15-6b093b2d73ed>\u001b[0m in \u001b[0;36mmake_plots\u001b[1;34m(name, fig_lung, show_predicted)\u001b[0m\n\u001b[0;32m     17\u001b[0m         \u001b[0mdata\u001b[0m \u001b[1;33m=\u001b[0m \u001b[0mhistory_data\u001b[0m\u001b[1;33m(\u001b[0m\u001b[1;33m)\u001b[0m\u001b[1;33m\u001b[0m\u001b[0m\n\u001b[0;32m     18\u001b[0m \u001b[1;33m\u001b[0m\u001b[0m\n\u001b[1;32m---> 19\u001b[1;33m     \u001b[0madd_trajectory\u001b[0m\u001b[1;33m(\u001b[0m\u001b[0mfig_lung\u001b[0m\u001b[1;33m,\u001b[0m \u001b[0mname\u001b[0m\u001b[1;33m,\u001b[0m \u001b[0mcolor_map\u001b[0m\u001b[1;33m,\u001b[0m \u001b[0mline_label\u001b[0m\u001b[1;33m,\u001b[0m \u001b[0mshow_predicted\u001b[0m\u001b[1;33m,\u001b[0m \u001b[0mdata\u001b[0m\u001b[1;33m)\u001b[0m\u001b[1;33m\u001b[0m\u001b[0m\n\u001b[0m\u001b[0;32m     20\u001b[0m \u001b[1;31m#     plot_tension(line_label, data)\u001b[0m\u001b[1;33m\u001b[0m\u001b[1;33m\u001b[0m\u001b[0m\n\u001b[0;32m     21\u001b[0m \u001b[1;31m#     plot_angles(line_label, data)\u001b[0m\u001b[1;33m\u001b[0m\u001b[1;33m\u001b[0m\u001b[0m\n",
      "\u001b[1;32m<ipython-input-3-06f2e6e8c06b>\u001b[0m in \u001b[0;36madd_trajectory\u001b[1;34m(fig_lung, name, color_map, line_label, show_predicted, data)\u001b[0m\n\u001b[0;32m      5\u001b[0m         \u001b[1;32mfor\u001b[0m \u001b[0mi\u001b[0m \u001b[1;32min\u001b[0m \u001b[0mrange\u001b[0m\u001b[1;33m(\u001b[0m\u001b[0mT\u001b[0m\u001b[1;33m)\u001b[0m\u001b[1;33m:\u001b[0m\u001b[1;33m\u001b[0m\u001b[0m\n\u001b[0;32m      6\u001b[0m             \u001b[1;32mif\u001b[0m \u001b[0mi\u001b[0m \u001b[1;33m%\u001b[0m \u001b[1;36m50\u001b[0m \u001b[1;33m==\u001b[0m \u001b[1;36m0\u001b[0m\u001b[1;33m:\u001b[0m\u001b[1;33m\u001b[0m\u001b[0m\n\u001b[1;32m----> 7\u001b[1;33m                 plt.plot(data.dx_predicted[i][:, 1], \n\u001b[0m\u001b[0;32m      8\u001b[0m                          \u001b[0mdata\u001b[0m\u001b[1;33m.\u001b[0m\u001b[0mdx_predicted\u001b[0m\u001b[1;33m[\u001b[0m\u001b[0mi\u001b[0m\u001b[1;33m]\u001b[0m\u001b[1;33m[\u001b[0m\u001b[1;33m:\u001b[0m\u001b[1;33m,\u001b[0m \u001b[1;36m0\u001b[0m\u001b[1;33m]\u001b[0m\u001b[1;33m,\u001b[0m\u001b[1;33m\u001b[0m\u001b[0m\n\u001b[0;32m      9\u001b[0m                          \u001b[1;34m'.-'\u001b[0m\u001b[1;33m,\u001b[0m \u001b[0mcolor\u001b[0m \u001b[1;33m=\u001b[0m \u001b[0mpurple\u001b[0m\u001b[1;33m,\u001b[0m \u001b[0malpha\u001b[0m \u001b[1;33m=\u001b[0m \u001b[1;36m0.1\u001b[0m\u001b[1;33m,\u001b[0m\u001b[1;33m\u001b[0m\u001b[0m\n",
      "\u001b[1;31mIndexError\u001b[0m: too many indices for array"
     ]
    },
    {
     "data": {
      "image/png": "[encoded data removed]",
      "text/plain": [
       "<matplotlib.figure.Figure at 0xb566588>"
      ]
     },
     "metadata": {},
     "output_type": "display_data"
    }
   ],
   "source": [
    "constraint = 3 #3, 5, 10\n",
    "folder = '../data/model_data/lung_data/'\n",
    "angle_names = [r'$\\alpha$', r'$\\beta$', r'$\\gamma$']  \n",
    "fig_lung = make_plot_boundaries()\n",
    "# make_plots('ukf', fig_lung, show_predicted = False)\n",
    "# make_plots('mlc', fig_lung)\n",
    "make_plots('new', fig_lung, show_predicted = True)\n",
    "\n",
    "if False:\n",
    "    folder = '../data/model_data/figs/'\n",
    "    file   = 'fig_lung_' + str(constraint) + '.pdf'\n",
    "    fig_lung.savefig(folder + file, format = 'pdf', bbox_inches='tight')\n",
    "    file   = 'fig_lung_tension_ukf.pdf'\n",
    "    fig_tension_ukf.savefig(folder + file, format = 'pdf', bbox_inches='tight')\n",
    "    file   = 'fig_lung_tension_mlc_' + str(constraint) + '.pdf'\n",
    "    fig_tension_mlc.savefig(folder + file, format = 'pdf', bbox_inches='tight')\n",
    "    file   = 'fig_lung_angles.pdf'\n",
    "    fig_angles.savefig(folder + file, format = 'pdf', bbox_inches='tight')\n"
   ]
  },
  {
   "cell_type": "code",
   "execution_count": null,
   "metadata": {
    "collapsed": true
   },
   "outputs": [],
   "source": []
  },
  {
   "cell_type": "code",
   "execution_count": null,
   "metadata": {
    "collapsed": true
   },
   "outputs": [],
   "source": []
  }
 ],
 "metadata": {
  "kernelspec": {
   "display_name": "Python 3",
   "language": "python",
   "name": "python3"
  },
  "language_info": {
   "codemirror_mode": {
    "name": "ipython",
    "version": 3
   },
   "file_extension": ".py",
   "mimetype": "text/x-python",
   "name": "python",
   "nbconvert_exporter": "python",
   "pygments_lexer": "ipython3",
   "version": "3.5.1"
  },
  "latex_envs": {
   "bibliofile": "biblio.bib",
   "cite_by": "apalike",
   "current_citInitial": 1,
   "eqLabelWithNumbers": true,
   "eqNumInitial": 0
  }
 },
 "nbformat": 4,
 "nbformat_minor": 0
}
